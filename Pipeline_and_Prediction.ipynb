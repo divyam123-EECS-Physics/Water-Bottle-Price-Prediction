{
  "nbformat": 4,
  "nbformat_minor": 0,
  "metadata": {
    "colab": {
      "name": "Pipeline and Prediction.ipynb",
      "provenance": [],
      "collapsed_sections": [],
      "mount_file_id": "1OwlOPycMRKZ6UvQ4VcJ_23eQdNRq3SMZ",
      "authorship_tag": "ABX9TyNp9zph06YYZCyQiJ1tVGbS",
      "include_colab_link": true
    },
    "kernelspec": {
      "name": "python3",
      "display_name": "Python 3"
    },
    "language_info": {
      "name": "python"
    }
  },
  "cells": [
    {
      "cell_type": "markdown",
      "metadata": {
        "id": "view-in-github",
        "colab_type": "text"
      },
      "source": [
        "<a href=\"https://colab.research.google.com/github/divyam123-EECS-Physics/Water-Bottle-Price-Prediction/blob/main/Pipeline_and_Prediction.ipynb\" target=\"_parent\"><img src=\"https://colab.research.google.com/assets/colab-badge.svg\" alt=\"Open In Colab\"/></a>"
      ]
    },
    {
      "cell_type": "code",
      "metadata": {
        "id": "tDLyIU78-y5U"
      },
      "source": [
        "import pandas as pd\n",
        "import matplotlib.pyplot as plt\n",
        "import seaborn as sns\n",
        "import numpy as np\n",
        "from sklearn.model_selection import train_test_split\n",
        "from sklearn.pipeline import Pipeline\n",
        "from sklearn.preprocessing import StandardScaler\n",
        "from sklearn.base import BaseEstimator, TransformerMixin\n",
        "from scipy.stats import pointbiserialr\n",
        "from sklearn.metrics import matthews_corrcoef\n",
        "pd.pandas.set_option('display.max_columns', None)"
      ],
      "execution_count": null,
      "outputs": []
    },
    {
      "cell_type": "code",
      "metadata": {
        "id": "3t9f2b9wKLKB"
      },
      "source": [
        "base_file = '/content/drive/MyDrive/TFProject/'\n",
        "train_df_path = base_file + 'water-bottle-train-set.csv'\n",
        "test_df_path = base_file + 'water-bottle-test-set.csv'"
      ],
      "execution_count": null,
      "outputs": []
    },
    {
      "cell_type": "code",
      "metadata": {
        "id": "Zpg2SqtPKQg4"
      },
      "source": [
        "class missing_values(BaseEstimator, TransformerMixin):\n",
        "  \n",
        "  def __init__(self):\n",
        "    self.non_ohe_features = ['Brand', 'Water Source', 'Container', 'Flavor', 'Pack Size', 'Price', 'Beverage Size']\n",
        "    self.ohe_features = []\n",
        "  def fit(self, X, y = None):\n",
        "\n",
        "    self.ohe_features = [col for col in X.columns if (col not in self.non_ohe_features and col not in ['Name', 'Falvor','Preservatice Free'])]\n",
        "    return self\n",
        "\n",
        "  def transform(self, X, y = None):\n",
        "    print('mv')\n",
        "    if ('Name' in X.columns.unique()) and ('Falvor' in X.columns.unique()) and ('Preservatice Free' in X.columns.unique()):\n",
        "      X = X.drop(columns = ['Name', 'Falvor','Preservatice Free'])\n",
        "\n",
        "    if 'Water Source' in X.columns.unique():\n",
        "      X['Water Source'] = X['Water Source'].fillna('local')\n",
        "\n",
        "    if 'Flavor' in X.columns.unique():\n",
        "      X['Flavor'] = X['Flavor'].fillna('None')\n",
        "    for feature in self.ohe_features:\n",
        "      if (feature in X.columns.unique()) and X[feature].isnull().sum() >= 1:\n",
        "        X[feature] = X[feature].fillna(0)\n",
        "    \n",
        "    print(X.isnull().sum())    \n",
        "    \n",
        "    return X"
      ],
      "execution_count": null,
      "outputs": []
    },
    {
      "cell_type": "code",
      "metadata": {
        "id": "lBEX-vH8kzxI"
      },
      "source": [
        "class DropSimilarOHEFeatures(BaseEstimator, TransformerMixin):\n",
        "  \n",
        "  def __init__(self, threshold = 0.85):\n",
        "    self.features_to_remove = []\n",
        "    self.threshold = threshold\n",
        "    self.non_ohe_features = ['Brand', 'Water Source', 'Container', 'Flavor', 'Pack Size', 'Price', 'Beverage Size']\n",
        "    \n",
        "  def fit(self, X, y = None):\n",
        "    ohe_bool_features = [col for col in X.columns if (col not in self.non_ohe_features)]\n",
        "    col_corr = dict()\n",
        "    corr_matrix = X[ohe_bool_features].corr(matthews_corrcoef)\n",
        "    if self.features_to_remove:\n",
        "      for i in range(len(corr_matrix.columns)):\n",
        "          for j in range(i):\n",
        "              if abs(corr_matrix.iloc[i, j]) > self.threshold: # we are interested in absolute coeff value\n",
        "                  colname = corr_matrix.columns[i]  # getting the name of column\n",
        "                  colname2 = corr_matrix.columns[j]\n",
        "                  col_corr[colname] = colname2\n",
        "      self.features_to_remove = col_corr \n",
        "    return self\n",
        "\n",
        "  def transform(self, X, y = None):\n",
        "    for feature in self.features_to_remove:\n",
        "      if feature in X.columns.unique():\n",
        "        X = X.drop(columns = [feature])\n",
        "    print('dsf')\n",
        "    #print(X.isnull().sum())    \n",
        "\n",
        "    return X"
      ],
      "execution_count": null,
      "outputs": []
    },
    {
      "cell_type": "code",
      "metadata": {
        "id": "4Q73PZ4pvipb"
      },
      "source": [
        "class DropRedundantOHEfeatures(BaseEstimator, TransformerMixin):\n",
        "  \n",
        "  def __init__(self, KBest = 10):\n",
        "    self.features_to_remove = []\n",
        "    self.non_ohe_features = ['Brand', 'Water Source', 'Container', 'Flavor', 'Pack Size', 'Price','Beverage Size']\n",
        "    self.KBest = KBest\n",
        "  def fit(self, X, y):\n",
        "    print('drf')\n",
        "    ohe_bool_features = [col for col in X.columns if ((col not in self.non_ohe_features))]\n",
        "    temp = X.copy()\n",
        "    temp['Price'] = y\n",
        "    p_val_dict = dict()\n",
        "    if self.features_to_remove == []:  \n",
        "      for feature in ohe_bool_features:\n",
        "\n",
        "        dicot_data = temp[feature]\n",
        "        cont_data = temp['Price']\n",
        "        corr, p_val = pointbiserialr(dicot_data, cont_data)\n",
        "        p_val_dict[feature] = p_val \n",
        "      sorted_p_val_dict = sorted(p_val_dict.items(), key = lambda kv: kv[1])\n",
        "      remove_p_vap_dict = sorted_p_val_dict[self.KBest:]\n",
        "      self.features_to_remove = [col[0] for col in remove_p_vap_dict]\n",
        "\n",
        "    return self\n",
        "\n",
        "  def transform(self, X, y = None):\n",
        "    print('drf')\n",
        "    for feature in self.features_to_remove:\n",
        "      if feature in X.columns.unique():\n",
        "        X = X.drop(columns = [feature])\n",
        "    return X"
      ],
      "execution_count": null,
      "outputs": []
    },
    {
      "cell_type": "code",
      "metadata": {
        "id": "h3L-W9dhxQNz"
      },
      "source": [
        "class MeanEncoder(BaseEstimator, TransformerMixin):\n",
        "  \n",
        "  def __init__(self):\n",
        "    self.non_ohe_features = ['Brand', 'Water Source', 'Container', 'Flavor', 'Pack Size', 'Beverage Size']\n",
        "    self.mapping_list = []\n",
        "\n",
        "  def fit(self, X, y):\n",
        "    temp = X.copy()\n",
        "    temp['Price'] = y\n",
        "    for feature in self.non_ohe_features:\n",
        "      if feature in temp.columns.unique():\n",
        "        mean_encoded_subject = temp.groupby([feature])['Price'].mean().to_dict()\n",
        "        self.mapping_list.append((feature, mean_encoded_subject))\n",
        "\n",
        "    return self\n",
        "\n",
        "  def transform(self, X, y = None):\n",
        "    print('me')\n",
        "    temp = X.copy()\n",
        "    temp['Price'] = y\n",
        "    for feature, mean_encoded_subject in self.mapping_list:\n",
        "      if feature in temp.columns.unique():\n",
        "        a = temp[feature].unique().tolist()\n",
        "        b = mean_encoded_subject.keys()\n",
        "        c = [d for d in a if d not in b]\n",
        "        if c != []:\n",
        "          for element in c:\n",
        "            mean_encoded_subject[element] = temp[temp[feature] == element]['Price'].mean()\n",
        "        temp[feature + 'Mean_Encoded'] = temp[feature].map(mean_encoded_subject)\n",
        "        temp = temp.drop(columns = [feature])\n",
        "    return temp.drop(columns = ['Price'])"
      ],
      "execution_count": null,
      "outputs": []
    },
    {
      "cell_type": "code",
      "metadata": {
        "id": "CH8TjEuOfk6F"
      },
      "source": [
        "from sklearn.svm import SVR\n",
        "from sklearn.preprocessing import MinMaxScaler"
      ],
      "execution_count": null,
      "outputs": []
    },
    {
      "cell_type": "code",
      "metadata": {
        "id": "8MQvQDi7feAm"
      },
      "source": [
        "train_df = pd.read_csv(train_df_path)\n",
        "\n",
        "X_train = train_df.loc[:, train_df.columns != 'Price']\n",
        "y_train = np.log(train_df['Price'])\n",
        "\n",
        "test_df = pd.read_csv(test_df_path)\n",
        "\n",
        "X_test = test_df.loc[:, test_df.columns != 'Price']\n",
        "y_test = np.log(test_df['Price'])\n"
      ],
      "execution_count": null,
      "outputs": []
    },
    {
      "cell_type": "code",
      "metadata": {
        "id": "5flULgCLqlW0"
      },
      "source": [
        ""
      ],
      "execution_count": null,
      "outputs": []
    },
    {
      "cell_type": "code",
      "metadata": {
        "colab": {
          "base_uri": "https://localhost:8080/"
        },
        "id": "UT4gEoOo3hQ_",
        "outputId": "ca732b40-2655-41c2-8bc1-a707c07dd8f4"
      },
      "source": [
        "for col in test_df.columns:\n",
        "  if test_df[col].isnull().sum() >= 1:\n",
        "    print(col)"
      ],
      "execution_count": null,
      "outputs": [
        {
          "output_type": "stream",
          "text": [
            "Water Source\n",
            "Falvor\n",
            "Flavor\n",
            "No Artificial Preservatives\n",
            "Preservative FREE\n",
            "No Artificial Flavors\n",
            "No Artificial Sweeteners\n"
          ],
          "name": "stdout"
        }
      ]
    },
    {
      "cell_type": "code",
      "metadata": {
        "id": "X6Jb9fP41euX"
      },
      "source": [
        "from sklearn.linear_model import LinearRegression\n",
        "from sklearn.svm import SVR\n",
        "from sklearn.decomposition import PCA"
      ],
      "execution_count": null,
      "outputs": []
    },
    {
      "cell_type": "code",
      "metadata": {
        "id": "-xIXEdtuOgRY"
      },
      "source": [
        "from sklearn.svm import SVR"
      ],
      "execution_count": null,
      "outputs": []
    },
    {
      "cell_type": "code",
      "metadata": {
        "id": "pXCckLUCWjVa"
      },
      "source": [
        "from sklearn.ensemble import RandomForestRegressor\n"
      ],
      "execution_count": null,
      "outputs": []
    },
    {
      "cell_type": "code",
      "metadata": {
        "id": "-u6jS40JVphe"
      },
      "source": [
        "lr = Pipeline([('missing_vals', missing_values()),\n",
        "               ('drop_similar', DropSimilarOHEFeatures()),\n",
        "               ('drop_redundant', DropSimilarOHEFeatures()),\n",
        "               ('me', MeanEncoder()),\n",
        "               ('Min_Max', MinMaxScaler()),\n",
        "               ('Model', LinearRegression())\n",
        "             ])\n",
        "               \n",
        "svr = Pipeline([('missing_vals', missing_values()),\n",
        "               ('drop_similar', DropSimilarOHEFeatures()),\n",
        "               ('drop_redundant', DropSimilarOHEFeatures()),\n",
        "               ('me', MeanEncoder()),\n",
        "               ('Min_Max', MinMaxScaler()),\n",
        "               ('Model', SVR()),\n",
        "             ])\n",
        "               \n",
        "\n",
        "rf = Pipeline([('missing_vals', missing_values()),\n",
        "               ('drop_similar', DropSimilarOHEFeatures()),\n",
        "               ('drop_redundant', DropSimilarOHEFeatures()),\n",
        "               ('me', MeanEncoder()),\n",
        "               ('Min_Max', MinMaxScaler()),\n",
        "               ('Model', RandomForestRegressor()),\n",
        "             ])\n",
        "\n",
        "\n",
        "# xgb = Pipeline([('missing_vals', missing_values()),\n",
        "#                ('drop_similar', DropSimilarOHEFeatures()),\n",
        "#                ('drop_redundant', DropSimilarOHEFeatures()),\n",
        "#                ('me', MeanEncoder()),\n",
        "#                ('Min_Max', MinMaxScaler()),\n",
        "#                ('pca', PCA(n_components = 0.95)),\n",
        "#                ('Model', RandomForestRegressor()),\n",
        "#              ])"
      ],
      "execution_count": null,
      "outputs": []
    },
    {
      "cell_type": "code",
      "metadata": {
        "id": "hL2YRCq6OyCU"
      },
      "source": [
        "pipelines = [lr, svr, rf]"
      ],
      "execution_count": null,
      "outputs": []
    },
    {
      "cell_type": "code",
      "metadata": {
        "id": "AlfTefIFgRYH"
      },
      "source": [
        "# mv = missing_values()\n",
        "# ds = DropSimilarOHEFeatures()\n",
        "# dr = DropSimilarOHEFeatures()\n",
        "# me = MeanEncoder()"
      ],
      "execution_count": null,
      "outputs": []
    },
    {
      "cell_type": "code",
      "metadata": {
        "id": "zRrYOQqygecs"
      },
      "source": [
        "# X_train = mv.fit_transform(X_train, y_train)\n",
        "# X_test = mv.transform(X_test, y_test)\n",
        "# X_train.isnull().sum(), X_test.isnull().sum()"
      ],
      "execution_count": null,
      "outputs": []
    },
    {
      "cell_type": "code",
      "metadata": {
        "id": "7dyDzmSqgqYr"
      },
      "source": [
        "# X_train = ds.fit_transform(X_train, y_train)\n",
        "# X_test = ds.transform(X_test, y_test)\n",
        "# X_train.isnull().sum(), X_test.isnull().sum()"
      ],
      "execution_count": null,
      "outputs": []
    },
    {
      "cell_type": "code",
      "metadata": {
        "id": "iKF-bbF-grSG"
      },
      "source": [
        "# X_train = dr.fit_transform(X_train, y_train)\n",
        "# X_test = dr.transform(X_test, y_test)\n",
        "# X_train.isnull().sum(), X_test.isnull().sum()"
      ],
      "execution_count": null,
      "outputs": []
    },
    {
      "cell_type": "code",
      "metadata": {
        "id": "OlSrMDOJgr1Q"
      },
      "source": [
        "# me = MeanEncoder()\n",
        "# X_train = me.fit_transform(X_train, y_train)\n",
        "# X_test = me.transform(X_test, y_test)\n",
        "# X_train.isnull().sum(), X_test.isnull().sum()"
      ],
      "execution_count": null,
      "outputs": []
    },
    {
      "cell_type": "code",
      "metadata": {
        "id": "VTlMhxYmmpO9"
      },
      "source": [
        "# bb = LinearRegression()\n",
        "# bb.fit(X_train, y_train)\n",
        "# bb.score(X_test, y_test)"
      ],
      "execution_count": null,
      "outputs": []
    },
    {
      "cell_type": "code",
      "metadata": {
        "id": "q7ABxRyzivOl"
      },
      "source": [
        "train_df = pd.read_csv(train_df_path)\n",
        "\n",
        "X_train = train_df.loc[:, train_df.columns != 'Price']\n",
        "y_train = np.log(train_df['Price'])\n",
        "\n",
        "test_df = pd.read_csv(test_df_path)\n",
        "\n",
        "X_test = test_df.loc[:, test_df.columns != 'Price']\n",
        "y_test = np.log(test_df['Price'])\n"
      ],
      "execution_count": null,
      "outputs": []
    },
    {
      "cell_type": "code",
      "metadata": {
        "id": "Aao-4rEC2ml1"
      },
      "source": [
        "# me = MeanEncoder()\n",
        "# X_train = me.fit_transform(X_train, y_train)\n",
        "# X_test = me.transform(X_test, y_test)"
      ],
      "execution_count": null,
      "outputs": []
    },
    {
      "cell_type": "code",
      "metadata": {
        "id": "AI3mxSBngb6T"
      },
      "source": [
        "from sklearn.model_selection import cross_val_score"
      ],
      "execution_count": null,
      "outputs": []
    },
    {
      "cell_type": "code",
      "metadata": {
        "colab": {
          "base_uri": "https://localhost:8080/"
        },
        "id": "BSFvL_TtW0r6",
        "outputId": "a40a394c-ac62-4a88-d8db-4e3e561dd22f"
      },
      "source": [
        "for pipe in pipelines:\n",
        "  pipe.fit(X_train, y_train)\n",
        "  print(pipe.score(X_test, y_test))"
      ],
      "execution_count": null,
      "outputs": [
        {
          "output_type": "stream",
          "text": [
            "mv\n",
            "Unnamed: 0                     0\n",
            "Brand                          0\n",
            "Pack Size                      0\n",
            "Water Source                   0\n",
            "Container                      0\n",
            "100% Natural                   0\n",
            "Anti-Oxidant                   0\n",
            "Artesian                       0\n",
            "BPA Free Plastic               0\n",
            "Caffeinated                    0\n",
            "Carbonated                     0\n",
            "Electrolytes                   0\n",
            "Energy Drinks                  0\n",
            "Enhanced                       0\n",
            "Ethically Sourced              0\n",
            "Fair Trade                     0\n",
            "Flavored                       0\n",
            "Gluten FREE                    0\n",
            "Green Tea                      0\n",
            "Kosher                         0\n",
            "Low Calorie                    0\n",
            "Mineral Water                  0\n",
            "No Artifical Flavors           0\n",
            "No Artifical Preservatives     0\n",
            "No Artifical Sweetners         0\n",
            "Non-Alcoholic Wine             0\n",
            "Non GMO                        0\n",
            "Non-Sparkling Water            0\n",
            "Nutritional                    0\n",
            "Organic                        0\n",
            "Organic Cane Sugar             0\n",
            "Purified Water                 0\n",
            "Regular Soda                   0\n",
            "Sodium-Free                    0\n",
            "Soy FREE                       0\n",
            "Sparkling Juice                0\n",
            "Sparkling Water                0\n",
            "Spring Water                   0\n",
            "Sweetened                      0\n",
            "Tea                            0\n",
            "Twist off Top                  0\n",
            "USDA Organic                   0\n",
            "Under 100 Calories             0\n",
            "30 Calories                    0\n",
            "Variety Pack                   0\n",
            "Vegan                          0\n",
            "Zero Carb                      0\n",
            "Zero Calorie                   0\n",
            "Zero Sodium                    0\n",
            "Zero Calories                  0\n",
            "Zero Sugar                     0\n",
            "Zero Sweeteners                0\n",
            "Beverage Size                  0\n",
            "Flavor                         0\n",
            "No Artificial Preservatives    0\n",
            "Preservative FREE              0\n",
            "No Artificial Flavors          0\n",
            "No Artificial Sweeteners       0\n",
            "dtype: int64\n"
          ],
          "name": "stdout"
        },
        {
          "output_type": "stream",
          "text": [
            "/usr/local/lib/python3.7/dist-packages/sklearn/metrics/_classification.py:900: RuntimeWarning: invalid value encountered in double_scalars\n",
            "  mcc = cov_ytyp / np.sqrt(cov_ytyt * cov_ypyp)\n"
          ],
          "name": "stderr"
        },
        {
          "output_type": "stream",
          "text": [
            "dsf\n",
            "dsf\n",
            "me\n",
            "mv\n",
            "Unnamed: 0                     0\n",
            "Brand                          0\n",
            "Pack Size                      0\n",
            "Water Source                   0\n",
            "Container                      0\n",
            "100% Natural                   0\n",
            "Anti-Oxidant                   0\n",
            "Artesian                       0\n",
            "BPA Free Plastic               0\n",
            "Caffeinated                    0\n",
            "Carbonated                     0\n",
            "Electrolytes                   0\n",
            "Energy Drinks                  0\n",
            "Enhanced                       0\n",
            "Ethically Sourced              0\n",
            "Fair Trade                     0\n",
            "Flavored                       0\n",
            "Gluten FREE                    0\n",
            "Green Tea                      0\n",
            "Kosher                         0\n",
            "Low Calorie                    0\n",
            "Mineral Water                  0\n",
            "No Artifical Flavors           0\n",
            "No Artifical Preservatives     0\n",
            "No Artifical Sweetners         0\n",
            "Non-Alcoholic Wine             0\n",
            "Non GMO                        0\n",
            "Non-Sparkling Water            0\n",
            "Nutritional                    0\n",
            "Organic                        0\n",
            "Organic Cane Sugar             0\n",
            "Purified Water                 0\n",
            "Regular Soda                   0\n",
            "Sodium-Free                    0\n",
            "Soy FREE                       0\n",
            "Sparkling Juice                0\n",
            "Sparkling Water                0\n",
            "Spring Water                   0\n",
            "Sweetened                      0\n",
            "Tea                            0\n",
            "Twist off Top                  0\n",
            "USDA Organic                   0\n",
            "Under 100 Calories             0\n",
            "30 Calories                    0\n",
            "Variety Pack                   0\n",
            "Vegan                          0\n",
            "Zero Carb                      0\n",
            "Zero Calorie                   0\n",
            "Zero Sodium                    0\n",
            "Zero Calories                  0\n",
            "Zero Sugar                     0\n",
            "Zero Sweeteners                0\n",
            "Beverage Size                  0\n",
            "Flavor                         0\n",
            "No Artificial Preservatives    0\n",
            "Preservative FREE              0\n",
            "No Artificial Flavors          0\n",
            "No Artificial Sweeteners       0\n",
            "dtype: int64\n",
            "dsf\n",
            "dsf\n",
            "me\n",
            "0.7883120469644842\n",
            "mv\n",
            "Unnamed: 0                     0\n",
            "Brand                          0\n",
            "Pack Size                      0\n",
            "Water Source                   0\n",
            "Container                      0\n",
            "100% Natural                   0\n",
            "Anti-Oxidant                   0\n",
            "Artesian                       0\n",
            "BPA Free Plastic               0\n",
            "Caffeinated                    0\n",
            "Carbonated                     0\n",
            "Electrolytes                   0\n",
            "Energy Drinks                  0\n",
            "Enhanced                       0\n",
            "Ethically Sourced              0\n",
            "Fair Trade                     0\n",
            "Flavored                       0\n",
            "Gluten FREE                    0\n",
            "Green Tea                      0\n",
            "Kosher                         0\n",
            "Low Calorie                    0\n",
            "Mineral Water                  0\n",
            "No Artifical Flavors           0\n",
            "No Artifical Preservatives     0\n",
            "No Artifical Sweetners         0\n",
            "Non-Alcoholic Wine             0\n",
            "Non GMO                        0\n",
            "Non-Sparkling Water            0\n",
            "Nutritional                    0\n",
            "Organic                        0\n",
            "Organic Cane Sugar             0\n",
            "Purified Water                 0\n",
            "Regular Soda                   0\n",
            "Sodium-Free                    0\n",
            "Soy FREE                       0\n",
            "Sparkling Juice                0\n",
            "Sparkling Water                0\n",
            "Spring Water                   0\n",
            "Sweetened                      0\n",
            "Tea                            0\n",
            "Twist off Top                  0\n",
            "USDA Organic                   0\n",
            "Under 100 Calories             0\n",
            "30 Calories                    0\n",
            "Variety Pack                   0\n",
            "Vegan                          0\n",
            "Zero Carb                      0\n",
            "Zero Calorie                   0\n",
            "Zero Sodium                    0\n",
            "Zero Calories                  0\n",
            "Zero Sugar                     0\n",
            "Zero Sweeteners                0\n",
            "Beverage Size                  0\n",
            "Flavor                         0\n",
            "No Artificial Preservatives    0\n",
            "Preservative FREE              0\n",
            "No Artificial Flavors          0\n",
            "No Artificial Sweeteners       0\n",
            "dtype: int64\n"
          ],
          "name": "stdout"
        },
        {
          "output_type": "stream",
          "text": [
            "/usr/local/lib/python3.7/dist-packages/sklearn/metrics/_classification.py:900: RuntimeWarning: invalid value encountered in double_scalars\n",
            "  mcc = cov_ytyp / np.sqrt(cov_ytyt * cov_ypyp)\n"
          ],
          "name": "stderr"
        },
        {
          "output_type": "stream",
          "text": [
            "dsf\n",
            "dsf\n",
            "me\n",
            "mv\n",
            "Unnamed: 0                     0\n",
            "Brand                          0\n",
            "Pack Size                      0\n",
            "Water Source                   0\n",
            "Container                      0\n",
            "100% Natural                   0\n",
            "Anti-Oxidant                   0\n",
            "Artesian                       0\n",
            "BPA Free Plastic               0\n",
            "Caffeinated                    0\n",
            "Carbonated                     0\n",
            "Electrolytes                   0\n",
            "Energy Drinks                  0\n",
            "Enhanced                       0\n",
            "Ethically Sourced              0\n",
            "Fair Trade                     0\n",
            "Flavored                       0\n",
            "Gluten FREE                    0\n",
            "Green Tea                      0\n",
            "Kosher                         0\n",
            "Low Calorie                    0\n",
            "Mineral Water                  0\n",
            "No Artifical Flavors           0\n",
            "No Artifical Preservatives     0\n",
            "No Artifical Sweetners         0\n",
            "Non-Alcoholic Wine             0\n",
            "Non GMO                        0\n",
            "Non-Sparkling Water            0\n",
            "Nutritional                    0\n",
            "Organic                        0\n",
            "Organic Cane Sugar             0\n",
            "Purified Water                 0\n",
            "Regular Soda                   0\n",
            "Sodium-Free                    0\n",
            "Soy FREE                       0\n",
            "Sparkling Juice                0\n",
            "Sparkling Water                0\n",
            "Spring Water                   0\n",
            "Sweetened                      0\n",
            "Tea                            0\n",
            "Twist off Top                  0\n",
            "USDA Organic                   0\n",
            "Under 100 Calories             0\n",
            "30 Calories                    0\n",
            "Variety Pack                   0\n",
            "Vegan                          0\n",
            "Zero Carb                      0\n",
            "Zero Calorie                   0\n",
            "Zero Sodium                    0\n",
            "Zero Calories                  0\n",
            "Zero Sugar                     0\n",
            "Zero Sweeteners                0\n",
            "Beverage Size                  0\n",
            "Flavor                         0\n",
            "No Artificial Preservatives    0\n",
            "Preservative FREE              0\n",
            "No Artificial Flavors          0\n",
            "No Artificial Sweeteners       0\n",
            "dtype: int64\n",
            "dsf\n",
            "dsf\n",
            "me\n",
            "0.7565689057120659\n",
            "mv\n",
            "Unnamed: 0                     0\n",
            "Brand                          0\n",
            "Pack Size                      0\n",
            "Water Source                   0\n",
            "Container                      0\n",
            "100% Natural                   0\n",
            "Anti-Oxidant                   0\n",
            "Artesian                       0\n",
            "BPA Free Plastic               0\n",
            "Caffeinated                    0\n",
            "Carbonated                     0\n",
            "Electrolytes                   0\n",
            "Energy Drinks                  0\n",
            "Enhanced                       0\n",
            "Ethically Sourced              0\n",
            "Fair Trade                     0\n",
            "Flavored                       0\n",
            "Gluten FREE                    0\n",
            "Green Tea                      0\n",
            "Kosher                         0\n",
            "Low Calorie                    0\n",
            "Mineral Water                  0\n",
            "No Artifical Flavors           0\n",
            "No Artifical Preservatives     0\n",
            "No Artifical Sweetners         0\n",
            "Non-Alcoholic Wine             0\n",
            "Non GMO                        0\n",
            "Non-Sparkling Water            0\n",
            "Nutritional                    0\n",
            "Organic                        0\n",
            "Organic Cane Sugar             0\n",
            "Purified Water                 0\n",
            "Regular Soda                   0\n",
            "Sodium-Free                    0\n",
            "Soy FREE                       0\n",
            "Sparkling Juice                0\n",
            "Sparkling Water                0\n",
            "Spring Water                   0\n",
            "Sweetened                      0\n",
            "Tea                            0\n",
            "Twist off Top                  0\n",
            "USDA Organic                   0\n",
            "Under 100 Calories             0\n",
            "30 Calories                    0\n",
            "Variety Pack                   0\n",
            "Vegan                          0\n",
            "Zero Carb                      0\n",
            "Zero Calorie                   0\n",
            "Zero Sodium                    0\n",
            "Zero Calories                  0\n",
            "Zero Sugar                     0\n",
            "Zero Sweeteners                0\n",
            "Beverage Size                  0\n",
            "Flavor                         0\n",
            "No Artificial Preservatives    0\n",
            "Preservative FREE              0\n",
            "No Artificial Flavors          0\n",
            "No Artificial Sweeteners       0\n",
            "dtype: int64\n"
          ],
          "name": "stdout"
        },
        {
          "output_type": "stream",
          "text": [
            "/usr/local/lib/python3.7/dist-packages/sklearn/metrics/_classification.py:900: RuntimeWarning: invalid value encountered in double_scalars\n",
            "  mcc = cov_ytyp / np.sqrt(cov_ytyt * cov_ypyp)\n"
          ],
          "name": "stderr"
        },
        {
          "output_type": "stream",
          "text": [
            "dsf\n",
            "dsf\n",
            "me\n",
            "mv\n",
            "Unnamed: 0                     0\n",
            "Brand                          0\n",
            "Pack Size                      0\n",
            "Water Source                   0\n",
            "Container                      0\n",
            "100% Natural                   0\n",
            "Anti-Oxidant                   0\n",
            "Artesian                       0\n",
            "BPA Free Plastic               0\n",
            "Caffeinated                    0\n",
            "Carbonated                     0\n",
            "Electrolytes                   0\n",
            "Energy Drinks                  0\n",
            "Enhanced                       0\n",
            "Ethically Sourced              0\n",
            "Fair Trade                     0\n",
            "Flavored                       0\n",
            "Gluten FREE                    0\n",
            "Green Tea                      0\n",
            "Kosher                         0\n",
            "Low Calorie                    0\n",
            "Mineral Water                  0\n",
            "No Artifical Flavors           0\n",
            "No Artifical Preservatives     0\n",
            "No Artifical Sweetners         0\n",
            "Non-Alcoholic Wine             0\n",
            "Non GMO                        0\n",
            "Non-Sparkling Water            0\n",
            "Nutritional                    0\n",
            "Organic                        0\n",
            "Organic Cane Sugar             0\n",
            "Purified Water                 0\n",
            "Regular Soda                   0\n",
            "Sodium-Free                    0\n",
            "Soy FREE                       0\n",
            "Sparkling Juice                0\n",
            "Sparkling Water                0\n",
            "Spring Water                   0\n",
            "Sweetened                      0\n",
            "Tea                            0\n",
            "Twist off Top                  0\n",
            "USDA Organic                   0\n",
            "Under 100 Calories             0\n",
            "30 Calories                    0\n",
            "Variety Pack                   0\n",
            "Vegan                          0\n",
            "Zero Carb                      0\n",
            "Zero Calorie                   0\n",
            "Zero Sodium                    0\n",
            "Zero Calories                  0\n",
            "Zero Sugar                     0\n",
            "Zero Sweeteners                0\n",
            "Beverage Size                  0\n",
            "Flavor                         0\n",
            "No Artificial Preservatives    0\n",
            "Preservative FREE              0\n",
            "No Artificial Flavors          0\n",
            "No Artificial Sweeteners       0\n",
            "dtype: int64\n",
            "dsf\n",
            "dsf\n",
            "me\n",
            "0.9586827650934101\n"
          ],
          "name": "stdout"
        }
      ]
    },
    {
      "cell_type": "code",
      "metadata": {
        "id": "s38vxIThYkD3",
        "colab": {
          "base_uri": "https://localhost:8080/"
        },
        "outputId": "0d89c279-9567-459e-ab83-05a0d422e0bc"
      },
      "source": [
        "params = {}\n",
        "rf.get_params().keys()"
      ],
      "execution_count": null,
      "outputs": [
        {
          "output_type": "execute_result",
          "data": {
            "text/plain": [
              "dict_keys(['memory', 'steps', 'verbose', 'missing_vals', 'drop_similar', 'drop_redundant', 'me', 'Min_Max', 'Model', 'drop_similar__threshold', 'drop_redundant__threshold', 'Min_Max__copy', 'Min_Max__feature_range', 'Model__bootstrap', 'Model__ccp_alpha', 'Model__criterion', 'Model__max_depth', 'Model__max_features', 'Model__max_leaf_nodes', 'Model__max_samples', 'Model__min_impurity_decrease', 'Model__min_impurity_split', 'Model__min_samples_leaf', 'Model__min_samples_split', 'Model__min_weight_fraction_leaf', 'Model__n_estimators', 'Model__n_jobs', 'Model__oob_score', 'Model__random_state', 'Model__verbose', 'Model__warm_start'])"
            ]
          },
          "metadata": {},
          "execution_count": 25
        }
      ]
    },
    {
      "cell_type": "code",
      "metadata": {
        "id": "WPzlGXkrpAi0"
      },
      "source": [
        "n_estimators = [int(x) for x in np.linspace(start = 10, stop = 80, num = 10)]\n",
        "# Number of features to consider at every split\n",
        "max_features = ['auto', 'sqrt']\n",
        "# Maximum number of levels in tree\n",
        "max_depth = [2,4]\n",
        "# Minimum number of samples required to split a node\n",
        "min_samples_split = [2, 5]\n",
        "# Minimum number of samples required at each leaf node\n",
        "min_samples_leaf = [1, 2]\n",
        "# Method of selecting samples for training each tree\n",
        "bootstrap = [True, False]"
      ],
      "execution_count": null,
      "outputs": []
    },
    {
      "cell_type": "code",
      "metadata": {
        "id": "MZ15sMZKkN-M"
      },
      "source": [
        "params = {}"
      ],
      "execution_count": null,
      "outputs": []
    },
    {
      "cell_type": "code",
      "metadata": {
        "id": "IRDr09lqkCsY"
      },
      "source": [
        "# params['drop_similar__threshold'] = [0.8,0.85,0.9]\n",
        "# params['drop_redundant__threshold'] = [0.8,0.85,0.9]\n",
        "params['n_estimators'] = n_estimators\n",
        "params['max_features'] = max_features\n",
        "params['min_samples_split'] = min_samples_split\n",
        "params['min_samples_leaf'] = min_samples_leaf\n",
        "params['bootstrap'] = bootstrap"
      ],
      "execution_count": null,
      "outputs": []
    },
    {
      "cell_type": "code",
      "metadata": {
        "id": "g-CrjPp6oyZK"
      },
      "source": [
        "from sklearn.model_selection import GridSearchCV"
      ],
      "execution_count": null,
      "outputs": []
    },
    {
      "cell_type": "code",
      "metadata": {
        "id": "QrL7Cd-dOFd5"
      },
      "source": [
        "rf_reg = RandomForestRegressor()"
      ],
      "execution_count": null,
      "outputs": []
    },
    {
      "cell_type": "code",
      "metadata": {
        "colab": {
          "base_uri": "https://localhost:8080/"
        },
        "id": "GkewkW7fSXIq",
        "outputId": "276bbf9e-a4c3-44ef-8d59-d0b0ed26e46a"
      },
      "source": [
        "rf_reg"
      ],
      "execution_count": null,
      "outputs": [
        {
          "output_type": "execute_result",
          "data": {
            "text/plain": [
              "RandomForestRegressor(bootstrap=True, ccp_alpha=0.0, criterion='mse',\n",
              "                      max_depth=None, max_features='auto', max_leaf_nodes=None,\n",
              "                      max_samples=None, min_impurity_decrease=0.0,\n",
              "                      min_impurity_split=None, min_samples_leaf=1,\n",
              "                      min_samples_split=2, min_weight_fraction_leaf=0.0,\n",
              "                      n_estimators=100, n_jobs=None, oob_score=False,\n",
              "                      random_state=None, verbose=0, warm_start=False)"
            ]
          },
          "metadata": {},
          "execution_count": 51
        }
      ]
    },
    {
      "cell_type": "code",
      "metadata": {
        "id": "cdrwlIfcN1KO"
      },
      "source": [
        "pip = Pipeline([('missing_vals', missing_values()),\n",
        "               ('drop_similar', DropSimilarOHEFeatures()),\n",
        "               ('drop_redundant', DropSimilarOHEFeatures()),\n",
        "               ('me', MeanEncoder()),\n",
        "               ('Min_Max', MinMaxScaler()),\n",
        "          ])"
      ],
      "execution_count": null,
      "outputs": []
    },
    {
      "cell_type": "code",
      "metadata": {
        "id": "D_9I7Gg-pgOb"
      },
      "source": [
        "rf_Grid = GridSearchCV(estimator = rf_reg, param_grid = params, cv = 3, verbose=2, n_jobs = -1)"
      ],
      "execution_count": null,
      "outputs": []
    },
    {
      "cell_type": "code",
      "metadata": {
        "colab": {
          "base_uri": "https://localhost:8080/"
        },
        "id": "9iBBiabuSLNB",
        "outputId": "0bae8968-f58a-470a-9e44-783d895f39e2"
      },
      "source": [
        "X_train = pip.fit_transform(X_train, y_train)"
      ],
      "execution_count": null,
      "outputs": [
        {
          "output_type": "stream",
          "text": [
            "mv\n",
            "Unnamed: 0                     0\n",
            "Brand                          0\n",
            "Pack Size                      0\n",
            "Water Source                   0\n",
            "Container                      0\n",
            "100% Natural                   0\n",
            "Anti-Oxidant                   0\n",
            "Artesian                       0\n",
            "BPA Free Plastic               0\n",
            "Caffeinated                    0\n",
            "Carbonated                     0\n",
            "Electrolytes                   0\n",
            "Energy Drinks                  0\n",
            "Enhanced                       0\n",
            "Ethically Sourced              0\n",
            "Fair Trade                     0\n",
            "Flavored                       0\n",
            "Gluten FREE                    0\n",
            "Green Tea                      0\n",
            "Kosher                         0\n",
            "Low Calorie                    0\n",
            "Mineral Water                  0\n",
            "No Artifical Flavors           0\n",
            "No Artifical Preservatives     0\n",
            "No Artifical Sweetners         0\n",
            "Non-Alcoholic Wine             0\n",
            "Non GMO                        0\n",
            "Non-Sparkling Water            0\n",
            "Nutritional                    0\n",
            "Organic                        0\n",
            "Organic Cane Sugar             0\n",
            "Purified Water                 0\n",
            "Regular Soda                   0\n",
            "Sodium-Free                    0\n",
            "Soy FREE                       0\n",
            "Sparkling Juice                0\n",
            "Sparkling Water                0\n",
            "Spring Water                   0\n",
            "Sweetened                      0\n",
            "Tea                            0\n",
            "Twist off Top                  0\n",
            "USDA Organic                   0\n",
            "Under 100 Calories             0\n",
            "30 Calories                    0\n",
            "Variety Pack                   0\n",
            "Vegan                          0\n",
            "Zero Carb                      0\n",
            "Zero Calorie                   0\n",
            "Zero Sodium                    0\n",
            "Zero Calories                  0\n",
            "Zero Sugar                     0\n",
            "Zero Sweeteners                0\n",
            "Beverage Size                  0\n",
            "Flavor                         0\n",
            "No Artificial Preservatives    0\n",
            "Preservative FREE              0\n",
            "No Artificial Flavors          0\n",
            "No Artificial Sweeteners       0\n",
            "dtype: int64\n"
          ],
          "name": "stdout"
        },
        {
          "output_type": "stream",
          "text": [
            "/usr/local/lib/python3.7/dist-packages/sklearn/metrics/_classification.py:900: RuntimeWarning: invalid value encountered in double_scalars\n",
            "  mcc = cov_ytyp / np.sqrt(cov_ytyt * cov_ypyp)\n"
          ],
          "name": "stderr"
        },
        {
          "output_type": "stream",
          "text": [
            "dsf\n",
            "dsf\n",
            "me\n"
          ],
          "name": "stdout"
        }
      ]
    },
    {
      "cell_type": "code",
      "metadata": {
        "colab": {
          "base_uri": "https://localhost:8080/"
        },
        "id": "4hIvk2eNqLXy",
        "outputId": "f2396516-529d-43bb-ecea-9f44a495e156"
      },
      "source": [
        "rf_Grid.fit(X_train, y_train)"
      ],
      "execution_count": null,
      "outputs": [
        {
          "output_type": "stream",
          "text": [
            "Fitting 3 folds for each of 160 candidates, totalling 480 fits\n"
          ],
          "name": "stdout"
        },
        {
          "output_type": "stream",
          "text": [
            "[Parallel(n_jobs=-1)]: Using backend LokyBackend with 2 concurrent workers.\n",
            "[Parallel(n_jobs=-1)]: Done  37 tasks      | elapsed:    4.5s\n",
            "[Parallel(n_jobs=-1)]: Done 158 tasks      | elapsed:   15.1s\n",
            "[Parallel(n_jobs=-1)]: Done 480 out of 480 | elapsed:   39.5s finished\n"
          ],
          "name": "stderr"
        },
        {
          "output_type": "execute_result",
          "data": {
            "text/plain": [
              "GridSearchCV(cv=3, error_score=nan,\n",
              "             estimator=RandomForestRegressor(bootstrap=True, ccp_alpha=0.0,\n",
              "                                             criterion='mse', max_depth=None,\n",
              "                                             max_features='auto',\n",
              "                                             max_leaf_nodes=None,\n",
              "                                             max_samples=None,\n",
              "                                             min_impurity_decrease=0.0,\n",
              "                                             min_impurity_split=None,\n",
              "                                             min_samples_leaf=1,\n",
              "                                             min_samples_split=2,\n",
              "                                             min_weight_fraction_leaf=0.0,\n",
              "                                             n_estimators=100, n_jobs=None,\n",
              "                                             oob_score=False, random_state=None,\n",
              "                                             verbose=0, warm_start=False),\n",
              "             iid='deprecated', n_jobs=-1,\n",
              "             param_grid={'bootstrap': [True, False],\n",
              "                         'max_features': ['auto', 'sqrt'],\n",
              "                         'min_samples_leaf': [1, 2],\n",
              "                         'min_samples_split': [2, 5],\n",
              "                         'n_estimators': [10, 17, 25, 33, 41, 48, 56, 64, 72,\n",
              "                                          80]},\n",
              "             pre_dispatch='2*n_jobs', refit=True, return_train_score=False,\n",
              "             scoring=None, verbose=2)"
            ]
          },
          "metadata": {},
          "execution_count": 57
        }
      ]
    },
    {
      "cell_type": "code",
      "metadata": {
        "colab": {
          "base_uri": "https://localhost:8080/"
        },
        "id": "Fs7VPTIwqOxJ",
        "outputId": "c9816464-e4cc-47ba-e650-35e802021f23"
      },
      "source": [
        "rf_Grid.best_params_"
      ],
      "execution_count": null,
      "outputs": [
        {
          "output_type": "execute_result",
          "data": {
            "text/plain": [
              "{'bootstrap': True,\n",
              " 'max_features': 'auto',\n",
              " 'min_samples_leaf': 1,\n",
              " 'min_samples_split': 2,\n",
              " 'n_estimators': 64}"
            ]
          },
          "metadata": {},
          "execution_count": 58
        }
      ]
    },
    {
      "cell_type": "code",
      "metadata": {
        "id": "4GBJBA92TX5o"
      },
      "source": [
        "\n",
        "final_pipeline = Pipeline([('missing_vals', missing_values()),\n",
        "                            ('drop_similar', DropSimilarOHEFeatures()),\n",
        "                            ('drop_redundant', DropSimilarOHEFeatures()),\n",
        "                            ('me', MeanEncoder()),\n",
        "                            ('Min_Max', MinMaxScaler()),\n",
        "                            ('Model', RandomForestRegressor(bootstrap=True, max_features='auto',min_samples_leaf=1,min_samples_split = 2, n_estimators=64)),\n",
        "                          ])"
      ],
      "execution_count": null,
      "outputs": []
    },
    {
      "cell_type": "code",
      "metadata": {
        "id": "wIPjEM6JsIqd"
      },
      "source": [
        "train_df = pd.read_csv(train_df_path)\n",
        "\n",
        "X_train = train_df.loc[:, train_df.columns != 'Price']\n",
        "y_train = np.log(train_df['Price'])\n",
        "\n",
        "test_df = pd.read_csv(test_df_path)\n",
        "\n",
        "X_test = test_df.loc[:, test_df.columns != 'Price']\n",
        "y_test = np.log(test_df['Price'])\n"
      ],
      "execution_count": null,
      "outputs": []
    },
    {
      "cell_type": "code",
      "metadata": {
        "colab": {
          "base_uri": "https://localhost:8080/"
        },
        "id": "HaMddg5sTrDO",
        "outputId": "c26d68e2-e9f3-45ba-8bc6-9c21691414e3"
      },
      "source": [
        "final_pipeline.fit(X_train, y_train)"
      ],
      "execution_count": null,
      "outputs": [
        {
          "output_type": "stream",
          "text": [
            "mv\n",
            "Unnamed: 0                     0\n",
            "Brand                          0\n",
            "Pack Size                      0\n",
            "Water Source                   0\n",
            "Container                      0\n",
            "100% Natural                   0\n",
            "Anti-Oxidant                   0\n",
            "Artesian                       0\n",
            "BPA Free Plastic               0\n",
            "Caffeinated                    0\n",
            "Carbonated                     0\n",
            "Electrolytes                   0\n",
            "Energy Drinks                  0\n",
            "Enhanced                       0\n",
            "Ethically Sourced              0\n",
            "Fair Trade                     0\n",
            "Flavored                       0\n",
            "Gluten FREE                    0\n",
            "Green Tea                      0\n",
            "Kosher                         0\n",
            "Low Calorie                    0\n",
            "Mineral Water                  0\n",
            "No Artifical Flavors           0\n",
            "No Artifical Preservatives     0\n",
            "No Artifical Sweetners         0\n",
            "Non-Alcoholic Wine             0\n",
            "Non GMO                        0\n",
            "Non-Sparkling Water            0\n",
            "Nutritional                    0\n",
            "Organic                        0\n",
            "Organic Cane Sugar             0\n",
            "Purified Water                 0\n",
            "Regular Soda                   0\n",
            "Sodium-Free                    0\n",
            "Soy FREE                       0\n",
            "Sparkling Juice                0\n",
            "Sparkling Water                0\n",
            "Spring Water                   0\n",
            "Sweetened                      0\n",
            "Tea                            0\n",
            "Twist off Top                  0\n",
            "USDA Organic                   0\n",
            "Under 100 Calories             0\n",
            "30 Calories                    0\n",
            "Variety Pack                   0\n",
            "Vegan                          0\n",
            "Zero Carb                      0\n",
            "Zero Calorie                   0\n",
            "Zero Sodium                    0\n",
            "Zero Calories                  0\n",
            "Zero Sugar                     0\n",
            "Zero Sweeteners                0\n",
            "Beverage Size                  0\n",
            "Flavor                         0\n",
            "No Artificial Preservatives    0\n",
            "Preservative FREE              0\n",
            "No Artificial Flavors          0\n",
            "No Artificial Sweeteners       0\n",
            "dtype: int64\n"
          ],
          "name": "stdout"
        },
        {
          "output_type": "stream",
          "text": [
            "/usr/local/lib/python3.7/dist-packages/sklearn/metrics/_classification.py:900: RuntimeWarning: invalid value encountered in double_scalars\n",
            "  mcc = cov_ytyp / np.sqrt(cov_ytyt * cov_ypyp)\n"
          ],
          "name": "stderr"
        },
        {
          "output_type": "stream",
          "text": [
            "dsf\n",
            "dsf\n",
            "me\n"
          ],
          "name": "stdout"
        },
        {
          "output_type": "execute_result",
          "data": {
            "text/plain": [
              "Pipeline(memory=None,\n",
              "         steps=[('missing_vals', missing_values()),\n",
              "                ('drop_similar', DropSimilarOHEFeatures(threshold=0.85)),\n",
              "                ('drop_redundant', DropSimilarOHEFeatures(threshold=0.85)),\n",
              "                ('me', MeanEncoder()),\n",
              "                ('Min_Max', MinMaxScaler(copy=True, feature_range=(0, 1))),\n",
              "                ('Model',\n",
              "                 RandomForestRegressor(bootstrap=True, ccp_alpha=0.0,\n",
              "                                       criterion='mse', max_depth=None,\n",
              "                                       max_features='auto', max_leaf_nodes=None,\n",
              "                                       max_samples=None,\n",
              "                                       min_impurity_decrease=0.0,\n",
              "                                       min_impurity_split=None,\n",
              "                                       min_samples_leaf=1, min_samples_split=2,\n",
              "                                       min_weight_fraction_leaf=0.0,\n",
              "                                       n_estimators=64, n_jobs=None,\n",
              "                                       oob_score=False, random_state=None,\n",
              "                                       verbose=0, warm_start=False))],\n",
              "         verbose=False)"
            ]
          },
          "metadata": {},
          "execution_count": 64
        }
      ]
    },
    {
      "cell_type": "code",
      "metadata": {
        "colab": {
          "base_uri": "https://localhost:8080/"
        },
        "id": "K6pMqXNVTxwV",
        "outputId": "cb8dd622-416c-42a2-9394-d5ba87c9fe76"
      },
      "source": [
        "final_pipeline.score(X_test, y_test)"
      ],
      "execution_count": null,
      "outputs": [
        {
          "output_type": "stream",
          "text": [
            "mv\n",
            "Unnamed: 0                     0\n",
            "Brand                          0\n",
            "Pack Size                      0\n",
            "Water Source                   0\n",
            "Container                      0\n",
            "100% Natural                   0\n",
            "Anti-Oxidant                   0\n",
            "Artesian                       0\n",
            "BPA Free Plastic               0\n",
            "Caffeinated                    0\n",
            "Carbonated                     0\n",
            "Electrolytes                   0\n",
            "Energy Drinks                  0\n",
            "Enhanced                       0\n",
            "Ethically Sourced              0\n",
            "Fair Trade                     0\n",
            "Flavored                       0\n",
            "Gluten FREE                    0\n",
            "Green Tea                      0\n",
            "Kosher                         0\n",
            "Low Calorie                    0\n",
            "Mineral Water                  0\n",
            "No Artifical Flavors           0\n",
            "No Artifical Preservatives     0\n",
            "No Artifical Sweetners         0\n",
            "Non-Alcoholic Wine             0\n",
            "Non GMO                        0\n",
            "Non-Sparkling Water            0\n",
            "Nutritional                    0\n",
            "Organic                        0\n",
            "Organic Cane Sugar             0\n",
            "Purified Water                 0\n",
            "Regular Soda                   0\n",
            "Sodium-Free                    0\n",
            "Soy FREE                       0\n",
            "Sparkling Juice                0\n",
            "Sparkling Water                0\n",
            "Spring Water                   0\n",
            "Sweetened                      0\n",
            "Tea                            0\n",
            "Twist off Top                  0\n",
            "USDA Organic                   0\n",
            "Under 100 Calories             0\n",
            "30 Calories                    0\n",
            "Variety Pack                   0\n",
            "Vegan                          0\n",
            "Zero Carb                      0\n",
            "Zero Calorie                   0\n",
            "Zero Sodium                    0\n",
            "Zero Calories                  0\n",
            "Zero Sugar                     0\n",
            "Zero Sweeteners                0\n",
            "Beverage Size                  0\n",
            "Flavor                         0\n",
            "No Artificial Preservatives    0\n",
            "Preservative FREE              0\n",
            "No Artificial Flavors          0\n",
            "No Artificial Sweeteners       0\n",
            "dtype: int64\n",
            "dsf\n",
            "dsf\n",
            "me\n"
          ],
          "name": "stdout"
        },
        {
          "output_type": "execute_result",
          "data": {
            "text/plain": [
              "0.9654210353617324"
            ]
          },
          "metadata": {},
          "execution_count": 65
        }
      ]
    },
    {
      "cell_type": "code",
      "metadata": {
        "id": "6YcQXdC9UOFL"
      },
      "source": [
        ""
      ],
      "execution_count": null,
      "outputs": []
    }
  ]
}